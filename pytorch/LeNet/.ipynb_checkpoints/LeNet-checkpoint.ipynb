{
 "cells": [
  {
   "cell_type": "code",
   "execution_count": 1,
   "metadata": {},
   "outputs": [],
   "source": [
    "import torch"
   ]
  },
  {
   "cell_type": "code",
   "execution_count": null,
   "metadata": {},
   "outputs": [],
   "source": [
    "class LeNet5(torch.nn.Module):\n",
    "    def __init__(self):\n",
    "        super().__init__()\n",
    "        self.conv1 = torch.nn.Conv2d(1, 6, (5, 5))\n",
    "        self.pool1 = torch.nn.AvgPool2d((2,2))\n",
    "        self.act1 = torch.nn.Tanh()\n",
    "        self.conv2 = torch.nn.Conv2d(6, 16, (5, 5))\n",
    "        self.pool2 = torch.nn.AvgPool2d((2, 2))\n",
    "        self.act2 = torch.nn.Tanh()\n",
    "        self.conv3 = torch.nn.Conv2d(16, 120,(5, 5))\n",
    "        self.linear1 = torch.nn.Linear(120, 84)\n",
    "        self.act3 = torch.nn.Tanh()\n",
    "        self.output = torch.nn.Linear(84,10)\n",
    "        \n",
    "    def forward(self, x):\n",
    "        pass"
   ]
  }
 ],
 "metadata": {
  "kernelspec": {
   "display_name": "Python 3",
   "language": "python",
   "name": "python3"
  },
  "language_info": {
   "codemirror_mode": {
    "name": "ipython",
    "version": 3
   },
   "file_extension": ".py",
   "mimetype": "text/x-python",
   "name": "python",
   "nbconvert_exporter": "python",
   "pygments_lexer": "ipython3",
   "version": "3.6.6"
  }
 },
 "nbformat": 4,
 "nbformat_minor": 4
}
