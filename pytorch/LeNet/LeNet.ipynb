{
 "cells": [
  {
   "cell_type": "code",
   "execution_count": 4,
   "metadata": {},
   "outputs": [],
   "source": [
    "import torch\n",
    "import torchvision\n",
    "import torch.nn.functional as F"
   ]
  },
  {
   "cell_type": "code",
   "execution_count": null,
   "metadata": {},
   "outputs": [],
   "source": [
    "trainset = torchvision.datasets.FashionMNIST(root=\"./data\", train=True)\n",
    "testset = torchvision.datasets.FashionMNIST(root=\"./data\", train=False)"
   ]
  },
  {
   "cell_type": "code",
   "execution_count": 3,
   "metadata": {},
   "outputs": [],
   "source": [
    "class LeNet5(torch.nn.Module):\n",
    "    def __init__(self):\n",
    "        super().__init__()\n",
    "        self.conv1 = torch.nn.Conv2d(1, 6, (5, 5))\n",
    "        self.pool1 = torch.nn.AvgPool2d((2,2), stride=1)\n",
    "        self.act1 = torch.nn.Tanh()\n",
    "        self.conv2 = torch.nn.Conv2d(6, 16, (5, 5))\n",
    "        self.pool2 = torch.nn.AvgPool2d((2, 2), stride=1)\n",
    "        self.act2 = torch.nn.Tanh()\n",
    "        self.conv3 = torch.nn.Conv2d(16, 120,(5, 5))\n",
    "        self.linear1 = torch.nn.Linear(120, 84)\n",
    "        self.act3 = torch.nn.Tanh()\n",
    "        self.output = torch.nn.Linear(84,10)\n",
    "        \n",
    "    def forward(self, x):\n",
    "        x = self.conv1(x)\n",
    "        x = self.pool1(x)\n",
    "        x = self.act1(x)\n",
    "        x = self.conv2(x)\n",
    "        x = self.pool2(x)\n",
    "        x = self.act2(x)\n",
    "        x = self.conv3(x)\n",
    "        x = self.linear1(x)\n",
    "        x = self.act3(x)\n",
    "        x = self.output(x)\n",
    "        return x"
   ]
  },
  {
   "cell_type": "code",
   "execution_count": null,
   "metadata": {},
   "outputs": [],
   "source": [
    " "
   ]
  }
 ],
 "metadata": {
  "kernelspec": {
   "display_name": "Python 3",
   "language": "python",
   "name": "python3"
  },
  "language_info": {
   "codemirror_mode": {
    "name": "ipython",
    "version": 3
   },
   "file_extension": ".py",
   "mimetype": "text/x-python",
   "name": "python",
   "nbconvert_exporter": "python",
   "pygments_lexer": "ipython3",
   "version": "3.6.6"
  }
 },
 "nbformat": 4,
 "nbformat_minor": 4
}
