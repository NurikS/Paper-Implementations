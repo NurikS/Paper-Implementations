{
 "cells": [
  {
   "cell_type": "code",
   "execution_count": 60,
   "metadata": {},
   "outputs": [],
   "source": [
    "import sys\n",
    "sys.path.append('../src/helpers')\n",
    "from im2col import im2col\n",
    "import cv2\n",
    "import matplotlib.pyplot as plt\n",
    "import torch\n",
    "from torchvision import transforms"
   ]
  },
  {
   "cell_type": "code",
   "execution_count": 61,
   "metadata": {},
   "outputs": [],
   "source": [
    "class Conv2D:\n",
    "    def __init__(self, num_filters, size=(3,3), stride=1, padding=1):\n",
    "        self.num_filters = num_filters\n",
    "        self.kernel_size = size\n",
    "        self.stride = stride\n",
    "        self.padding = padding\n",
    "        self.kernels = []\n",
    "        for i in range(self.num_filters):\n",
    "            self.kernels.append(torch.randn(size[0], size[1]))\n",
    "    \n",
    "    def im2col(self, x, kernel_shape):\n",
    "        img_to_pad = transforms.Compose([\n",
    "                 transforms.ToPILImage(),\n",
    "                 transforms.Pad(padding=self.padding, fill=0, padding_mode=\"constant\"),\n",
    "                 transforms.ToTensor(),\n",
    "             ])\n",
    "        x = img_to_pad(x)\n",
    "        x = x[0]\n",
    "        rows = []\n",
    "        for row in range(0,x.shape[0]-2,self.stride):\n",
    "            for col in range(0,x.shape[1]-2,self.stride):\n",
    "                window = x[row:row+kernel_shape, col:col+kernel_shape]\n",
    "                rows.append(window.flatten())\n",
    "        rows = torch.stack(rows)\n",
    "        result = torch.tensor(rows).t()\n",
    "        return result\n",
    "    \n",
    "    def forward(self, X):\n",
    "        cols = self.im2col(X, self.kernel_size[0])\n",
    "        convolved_arrs = []\n",
    "        for kernel in self.kernels:\n",
    "            convolved = torch.matmul(kernel.flatten(), cols)\n",
    "            convolved_arrs.append(convolved)\n",
    "        convolved_arrs = torch.stack(convolved_arrs)\n",
    "        convolved_arrs = torch.tensor(convolved_arrs)\n",
    "        shapes = convolved_arrs[0].shape[0]\n",
    "        shape = torch.tensor(shapes,dtype=torch.float32)\n",
    "        h, w = int(torch.sqrt(shape)), int(torch.sqrt(shape))\n",
    "        outs = []\n",
    "        for convolved in convolved_arrs:\n",
    "            out = convolved.view(h,w,1)\n",
    "            outs.append(out)\n",
    "        outs = torch.stack(outs)\n",
    "        outs = torch.tensor(outs)\n",
    "        cache = (X, self.kernels, self.stride, self.padding, cols)\n",
    "        return outs, cache\n",
    "    \n",
    "    def backward(self, dZ):\n",
    "        pass"
   ]
  },
  {
   "cell_type": "code",
   "execution_count": 62,
   "metadata": {},
   "outputs": [],
   "source": [
    "path = \"../imgs/kitten.jpg\""
   ]
  },
  {
   "cell_type": "code",
   "execution_count": 63,
   "metadata": {},
   "outputs": [],
   "source": [
    "kitten = cv2.imread(path,0)"
   ]
  },
  {
   "cell_type": "code",
   "execution_count": 64,
   "metadata": {},
   "outputs": [],
   "source": [
    "res = cv2.resize(kitten, dsize=(50, 50), interpolation=cv2.INTER_CUBIC)"
   ]
  },
  {
   "cell_type": "code",
   "execution_count": 65,
   "metadata": {},
   "outputs": [
    {
     "data": {
      "text/plain": [
       "<matplotlib.image.AxesImage at 0x164f226ecf8>"
      ]
     },
     "execution_count": 65,
     "metadata": {},
     "output_type": "execute_result"
    },
    {
     "data": {
      "image/png": "[encoded data removed]",
      "text/plain": [
       "<Figure size 432x288 with 1 Axes>"
      ]
     },
     "metadata": {
      "needs_background": "light"
     },
     "output_type": "display_data"
    }
   ],
   "source": [
    "plt.imshow(res)"
   ]
  },
  {
   "cell_type": "code",
   "execution_count": 66,
   "metadata": {},
   "outputs": [
    {
     "name": "stderr",
     "output_type": "stream",
     "text": [
      "c:\\users\\nurbe\\appdata\\local\\programs\\python\\python36\\lib\\site-packages\\ipykernel_launcher.py:25: UserWarning: To copy construct from a tensor, it is recommended to use sourceTensor.clone().detach() or sourceTensor.clone().detach().requires_grad_(True), rather than torch.tensor(sourceTensor).\n",
      "c:\\users\\nurbe\\appdata\\local\\programs\\python\\python36\\lib\\site-packages\\ipykernel_launcher.py:35: UserWarning: To copy construct from a tensor, it is recommended to use sourceTensor.clone().detach() or sourceTensor.clone().detach().requires_grad_(True), rather than torch.tensor(sourceTensor).\n",
      "c:\\users\\nurbe\\appdata\\local\\programs\\python\\python36\\lib\\site-packages\\ipykernel_launcher.py:44: UserWarning: To copy construct from a tensor, it is recommended to use sourceTensor.clone().detach() or sourceTensor.clone().detach().requires_grad_(True), rather than torch.tensor(sourceTensor).\n"
     ]
    }
   ],
   "source": [
    "conv_layer = Conv2D(2,stride=2)\n",
    "result, cache = conv_layer.forward(res)"
   ]
  },
  {
   "cell_type": "code",
   "execution_count": 67,
   "metadata": {},
   "outputs": [
    {
     "data": {
      "text/plain": [
       "<matplotlib.image.AxesImage at 0x164f152cf60>"
      ]
     },
     "execution_count": 67,
     "metadata": {},
     "output_type": "execute_result"
    },
    {
     "data": {
      "image/png": "[encoded data removed]",
      "text/plain": [
       "<Figure size 432x288 with 1 Axes>"
      ]
     },
     "metadata": {
      "needs_background": "light"
     },
     "output_type": "display_data"
    }
   ],
   "source": [
    "plt.imshow(result[0].view(25,25))"
   ]
  },
  {
   "cell_type": "code",
   "execution_count": null,
   "metadata": {},
   "outputs": [],
   "source": []
  }
 ],
 "metadata": {
  "kernelspec": {
   "display_name": "Python 3",
   "language": "python",
   "name": "python3"
  },
  "language_info": {
   "codemirror_mode": {
    "name": "ipython",
    "version": 3
   },
   "file_extension": ".py",
   "mimetype": "text/x-python",
   "name": "python",
   "nbconvert_exporter": "python",
   "pygments_lexer": "ipython3",
   "version": "3.6.6"
  }
 },
 "nbformat": 4,
 "nbformat_minor": 4
}
